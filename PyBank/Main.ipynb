{
 "cells": [
  {
   "cell_type": "code",
   "execution_count": 48,
   "metadata": {},
   "outputs": [],
   "source": [
    "# Dependencies\n",
    "import csv\n",
    "import os"
   ]
  },
  {
   "cell_type": "code",
   "execution_count": 49,
   "metadata": {},
   "outputs": [],
   "source": [
    "# Files to load and output (update with correct file paths)\n",
    "file_to_load = os.path.join(\"Resources\", \"budget_data.csv\")  # Input file path\n",
    "file_to_output = os.path.join(\"analysis\", \"budget_analysis.txt\")  # Output file path\n"
   ]
  },
  {
   "cell_type": "code",
   "execution_count": 66,
   "metadata": {},
   "outputs": [],
   "source": [
    "# Define variables to track the financial data\n",
    "total_months = 0\n",
    "total_net = 0\n",
    "monthly_changes = []\n",
    "greatest_increase = {\"month\": \"\", \"amount\": 0}\n",
    "greatest_decrease = {\"month\": \"\", \"amount\": 0}"
   ]
  },
  {
   "cell_type": "code",
   "execution_count": 67,
   "metadata": {},
   "outputs": [],
   "source": [
    "# Open and read the csv\n",
    "with open(file_to_load) as financial_data:\n",
    "    reader = csv.reader(financial_data)\n",
    "\n",
    "    # Skip the header row\n",
    "    header = next(reader)\n",
    "\n",
    "    # Extract first row to avoid appending to net_change_list\n",
    "    first_row = next(reader)\n",
    "    total_months = 1  \n",
    "    total_net = int(first_row[1])  \n",
    "    previous_profit_loss = int(first_row[1])  \n",
    "    # Process each row of data\n",
    "    for row in reader:\n",
    "        # # Track the total\n",
    "        total_months += 1  \n",
    "        total_net += int(row[1])  \n",
    "         # Track the net change\n",
    "        net_change = int(row[1]) - previous_profit_loss\n",
    "        monthly_changes.append(net_change)\n",
    "        previous_profit_loss = int(row[1])\n",
    "\n",
    "         # Calculate the greatest increase in profits (month and amount)\n",
    "        if net_change > greatest_increase[\"amount\"]:\n",
    "            greatest_increase[\"month\"] = row[0]\n",
    "            greatest_increase[\"amount\"] = net_change\n",
    "        # Calculate the greatest decrease in losses (month and amount)\n",
    "        if net_change < greatest_decrease[\"amount\"]:\n",
    "            greatest_decrease[\"month\"] = row[0]\n",
    "            greatest_decrease[\"amount\"] = net_change\n"
   ]
  },
  {
   "cell_type": "code",
   "execution_count": 68,
   "metadata": {},
   "outputs": [],
   "source": [
    "# Calculate the average net change across the months\n",
    "average_change = sum(monthly_changes) / len(monthly_changes)"
   ]
  },
  {
   "cell_type": "code",
   "execution_count": 69,
   "metadata": {},
   "outputs": [
    {
     "name": "stdout",
     "output_type": "stream",
     "text": [
      "Financial Analysis\n",
      "----------------------------\n",
      "Total Months: 86\n",
      "Total: $22564198\n",
      "Average Change: $-8311.11\n",
      "Greatest Increase in Profits: Aug-16 ($1862002)\n",
      "Greatest Decrease in Profits: Feb-14 ($-1825558)\n",
      "\n"
     ]
    }
   ],
   "source": [
    "# Generate the output summary\n",
    "output = (\n",
    "    f\"Financial Analysis\\n\"\n",
    "    f\"----------------------------\\n\"\n",
    "    f\"Total Months: {total_months}\\n\"\n",
    "    f\"Total: ${total_net}\\n\"\n",
    "    f\"Average Change: ${average_change:.2f}\\n\"\n",
    "    f\"Greatest Increase in Profits: {greatest_increase['month']} (${greatest_increase['amount']})\\n\"\n",
    "    f\"Greatest Decrease in Profits: {greatest_decrease['month']} (${greatest_decrease['amount']})\\n\"\n",
    ")\n",
    "\n",
    "# Print the output\n",
    "print(output)"
   ]
  },
  {
   "cell_type": "code",
   "execution_count": 70,
   "metadata": {},
   "outputs": [],
   "source": [
    "# Write the results to a text file\n",
    "with open(file_to_output, \"w\") as txt_file:\n",
    "    txt_file.write(output)"
   ]
  }
 ],
 "metadata": {
  "kernelspec": {
   "display_name": "pandas_intro",
   "language": "python",
   "name": "python3"
  },
  "language_info": {
   "codemirror_mode": {
    "name": "ipython",
    "version": 3
   },
   "file_extension": ".py",
   "mimetype": "text/x-python",
   "name": "python",
   "nbconvert_exporter": "python",
   "pygments_lexer": "ipython3",
   "version": "3.11.9"
  }
 },
 "nbformat": 4,
 "nbformat_minor": 2
}
